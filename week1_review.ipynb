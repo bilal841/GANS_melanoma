{
  "nbformat": 4,
  "nbformat_minor": 0,
  "metadata": {
    "colab": {
      "name": "week1_review.ipynb",
      "provenance": [],
      "collapsed_sections": [],
      "authorship_tag": "ABX9TyMZD+VrdKTWFFx2j3z23bWg",
      "include_colab_link": true
    },
    "kernelspec": {
      "name": "python3",
      "display_name": "Python 3"
    },
    "accelerator": "GPU"
  },
  "cells": [
    {
      "cell_type": "markdown",
      "metadata": {
        "id": "view-in-github",
        "colab_type": "text"
      },
      "source": [
        "<a href=\"https://colab.research.google.com/github/sunnnymskang/GANS_melanoma/blob/master/week1_review.ipynb\" target=\"_parent\"><img src=\"https://colab.research.google.com/assets/colab-badge.svg\" alt=\"Open In Colab\"/></a>"
      ]
    },
    {
      "cell_type": "code",
      "metadata": {
        "id": "pOQPudUbMc-V",
        "colab_type": "code",
        "colab": {
          "base_uri": "https://localhost:8080/",
          "height": 428
        },
        "outputId": "d37234c4-f569-4031-d53b-e38cfa63ca97"
      },
      "source": [
        "!ln -sf /opt/bin/nvidia-smi /usr/bin/nvidia-smi\n",
        "!pip install gputil\n",
        "!pip install psutil\n",
        "!pip install torch\n",
        "!pip install torchvision\n",
        "!pip install NumPy\n",
        "!pip install sklearn\n",
        "!pip install matplotlib"
      ],
      "execution_count": 73,
      "outputs": [
        {
          "output_type": "stream",
          "text": [
            "Requirement already satisfied: gputil in /usr/local/lib/python3.6/dist-packages (1.4.0)\n",
            "Requirement already satisfied: psutil in /usr/local/lib/python3.6/dist-packages (5.4.8)\n",
            "Requirement already satisfied: torch in /usr/local/lib/python3.6/dist-packages (1.6.0+cu101)\n",
            "Requirement already satisfied: numpy in /usr/local/lib/python3.6/dist-packages (from torch) (1.18.5)\n",
            "Requirement already satisfied: future in /usr/local/lib/python3.6/dist-packages (from torch) (0.16.0)\n",
            "Requirement already satisfied: torchvision in /usr/local/lib/python3.6/dist-packages (0.7.0+cu101)\n",
            "Requirement already satisfied: pillow>=4.1.1 in /usr/local/lib/python3.6/dist-packages (from torchvision) (7.0.0)\n",
            "Requirement already satisfied: torch==1.6.0 in /usr/local/lib/python3.6/dist-packages (from torchvision) (1.6.0+cu101)\n",
            "Requirement already satisfied: numpy in /usr/local/lib/python3.6/dist-packages (from torchvision) (1.18.5)\n",
            "Requirement already satisfied: future in /usr/local/lib/python3.6/dist-packages (from torch==1.6.0->torchvision) (0.16.0)\n",
            "Requirement already satisfied: NumPy in /usr/local/lib/python3.6/dist-packages (1.18.5)\n",
            "Requirement already satisfied: sklearn in /usr/local/lib/python3.6/dist-packages (0.0)\n",
            "Requirement already satisfied: scikit-learn in /usr/local/lib/python3.6/dist-packages (from sklearn) (0.22.2.post1)\n",
            "Requirement already satisfied: scipy>=0.17.0 in /usr/local/lib/python3.6/dist-packages (from scikit-learn->sklearn) (1.4.1)\n",
            "Requirement already satisfied: numpy>=1.11.0 in /usr/local/lib/python3.6/dist-packages (from scikit-learn->sklearn) (1.18.5)\n",
            "Requirement already satisfied: joblib>=0.11 in /usr/local/lib/python3.6/dist-packages (from scikit-learn->sklearn) (0.16.0)\n",
            "Requirement already satisfied: matplotlib in /usr/local/lib/python3.6/dist-packages (3.2.2)\n",
            "Requirement already satisfied: python-dateutil>=2.1 in /usr/local/lib/python3.6/dist-packages (from matplotlib) (2.8.1)\n",
            "Requirement already satisfied: pyparsing!=2.0.4,!=2.1.2,!=2.1.6,>=2.0.1 in /usr/local/lib/python3.6/dist-packages (from matplotlib) (2.4.7)\n",
            "Requirement already satisfied: kiwisolver>=1.0.1 in /usr/local/lib/python3.6/dist-packages (from matplotlib) (1.2.0)\n",
            "Requirement already satisfied: cycler>=0.10 in /usr/local/lib/python3.6/dist-packages (from matplotlib) (0.10.0)\n",
            "Requirement already satisfied: numpy>=1.11 in /usr/local/lib/python3.6/dist-packages (from matplotlib) (1.18.5)\n",
            "Requirement already satisfied: six>=1.5 in /usr/local/lib/python3.6/dist-packages (from python-dateutil>=2.1->matplotlib) (1.15.0)\n"
          ],
          "name": "stdout"
        }
      ]
    },
    {
      "cell_type": "markdown",
      "metadata": {
        "id": "lbQYDHqyjTfR",
        "colab_type": "text"
      },
      "source": [
        "Note that I've mostly referred and adapted from : https://pytorch.org/tutorials/beginner/transfer_learning_tutorial.html"
      ]
    },
    {
      "cell_type": "markdown",
      "metadata": {
        "id": "3v_yWl_gVduD",
        "colab_type": "text"
      },
      "source": [
        "1. Data loading"
      ]
    },
    {
      "cell_type": "code",
      "metadata": {
        "id": "0scAlVfmV5q7",
        "colab_type": "code",
        "colab": {}
      },
      "source": [
        "from __future__ import print_function, division\n",
        "\n",
        "import torch\n",
        "import torch.nn as nn\n",
        "import torch.nn.functional as F\n",
        "import torch.optim as optim\n",
        "from torch.optim import lr_scheduler\n",
        "import numpy as np\n",
        "import torchvision\n",
        "from torchvision import datasets, models, transforms\n",
        "import matplotlib.pyplot as plt\n",
        "import time\n",
        "import os\n",
        "import copy\n",
        "\n",
        "plt.ion()"
      ],
      "execution_count": 74,
      "outputs": []
    },
    {
      "cell_type": "code",
      "metadata": {
        "id": "tUqthcqQV6Dj",
        "colab_type": "code",
        "colab": {}
      },
      "source": [
        "# Data augmentation and normalization for training\n",
        "# Just normalization for validation\n",
        "data_transforms = {\n",
        "    'train': transforms.Compose([\n",
        "        transforms.RandomHorizontalFlip(),\n",
        "        transforms.ToTensor(),\n",
        "        transforms.Normalize((0.485,) , (0.229,))\n",
        "    ]),\n",
        "    'val': transforms.Compose([\n",
        "        transforms.ToTensor(),\n",
        "        transforms.Normalize((0.485,) , (0.229,))\n",
        "    ]),\n",
        "}"
      ],
      "execution_count": 75,
      "outputs": []
    },
    {
      "cell_type": "code",
      "metadata": {
        "id": "TTGOC2L1ZtDO",
        "colab_type": "code",
        "colab": {}
      },
      "source": [
        "image_datasets = {x: datasets.MNIST('PATH_TO_STORE_TRAINSET', train=y,transform=data_transforms[x],download=True) for x, y in {'train':True, 'val':False}.items()}\n",
        "dataloaders = {x: torch.utils.data.DataLoader(image_datasets[x], batch_size=4,\n",
        "                                             shuffle=True, num_workers=1)\n",
        "              for x in ['train', 'val']}\n",
        "dataset_sizes = {x: len(image_datasets[x]) for x in ['train', 'val']}\n",
        "class_names = image_datasets['train'].classes\n",
        "\n",
        "device = torch.device(\"cuda:0\" if torch.cuda.is_available() else \"cpu\")"
      ],
      "execution_count": 76,
      "outputs": []
    },
    {
      "cell_type": "code",
      "metadata": {
        "id": "IPPV7WFFelD6",
        "colab_type": "code",
        "colab": {
          "base_uri": "https://localhost:8080/",
          "height": 221
        },
        "outputId": "9e480957-86be-4e3d-ed12-0452156e287b"
      },
      "source": [
        "device,class_names,dataset_sizes"
      ],
      "execution_count": 77,
      "outputs": [
        {
          "output_type": "execute_result",
          "data": {
            "text/plain": [
              "(device(type='cuda', index=0),\n",
              " ['0 - zero',\n",
              "  '1 - one',\n",
              "  '2 - two',\n",
              "  '3 - three',\n",
              "  '4 - four',\n",
              "  '5 - five',\n",
              "  '6 - six',\n",
              "  '7 - seven',\n",
              "  '8 - eight',\n",
              "  '9 - nine'],\n",
              " {'train': 60000, 'val': 10000})"
            ]
          },
          "metadata": {
            "tags": []
          },
          "execution_count": 77
        }
      ]
    },
    {
      "cell_type": "markdown",
      "metadata": {
        "id": "I47f3mUleTh5",
        "colab_type": "text"
      },
      "source": [
        "1a. Visualize the data points"
      ]
    },
    {
      "cell_type": "code",
      "metadata": {
        "id": "wNuIukW5eRK3",
        "colab_type": "code",
        "colab": {
          "base_uri": "https://localhost:8080/",
          "height": 645
        },
        "outputId": "9cca9605-8106-4fd6-8674-8d68adc259cb"
      },
      "source": [
        "def imshow(inp, title=None, ax=None ):\n",
        "    \"\"\"Imshow for Tensor.\"\"\"\n",
        "    print(inp.shape)\n",
        "    inp = inp.numpy().transpose((1, 2, 0))\n",
        "    mean = np.array(0.485,)\n",
        "    std = np.array(0.229,)\n",
        "    inp = std * inp + mean\n",
        "    inp = np.clip(inp, 0, 1)\n",
        "    print(\"pass\")\n",
        "    plt.imshow(inp)\n",
        "    if ax is None:\n",
        "      fig, ax = plt.subplots(1)\n",
        "    ax.imshow(inp)\n",
        "    ax.set_xticks([])\n",
        "    ax.set_yticks([])\n",
        "    if title is not None:\n",
        "      ax.set_title(title)\n",
        "    plt.pause(0.001)  # pause a bit so that plots are updated\n",
        "\n",
        "\n",
        "# Get a batch of training data\n",
        "inputs, classes = next(iter(dataloaders['train']))\n",
        "\n",
        "# Make a grid from batch\n",
        "print(inputs.size())\n",
        "out = torchvision.utils.make_grid(inputs, nrow=2)\n",
        "\n",
        "fig, ax = plt.subplots(1, figsize=(10, 10))\n",
        "imshow(out, title=[class_names[x] for x in classes], ax=ax)"
      ],
      "execution_count": 114,
      "outputs": [
        {
          "output_type": "stream",
          "text": [
            "torch.Size([4, 1, 28, 28])\n",
            "torch.Size([3, 62, 62])\n",
            "pass\n"
          ],
          "name": "stdout"
        },
        {
          "output_type": "display_data",
          "data": {
            "image/png": "[encoded data removed]",
            "text/plain": [
              "<Figure size 720x720 with 1 Axes>"
            ]
          },
          "metadata": {
            "tags": []
          }
        }
      ]
    },
    {
      "cell_type": "markdown",
      "metadata": {
        "id": "ocl8Z56QVq6i",
        "colab_type": "text"
      },
      "source": [
        "2. NN model "
      ]
    },
    {
      "cell_type": "code",
      "metadata": {
        "id": "uldpLsN7V9Fg",
        "colab_type": "code",
        "colab": {
          "base_uri": "https://localhost:8080/",
          "height": 136
        },
        "outputId": "2f00bcd5-1f49-4ae4-9627-ea0e450a663c"
      },
      "source": [
        "import torch\n",
        "import torch.nn as nn\n",
        "import torch.nn.functional as F\n",
        "\n",
        "\n",
        "class Net(nn.Module):\n",
        "\n",
        "    def __init__(self):\n",
        "        super(Net, self).__init__()\n",
        "        # 1 input image channel, 6 output channels, 3x3 square convolution\n",
        "        # kernel\n",
        "        self.conv1 = nn.Conv2d(1, 6, 3)\n",
        "        self.conv2 = nn.Conv2d(6, 16, 3)\n",
        "        # an affine operation: y = Wx + b\n",
        "        self.fc1 = nn.Linear(16 * 5 * 5, 120)  # 6*6 from image dimension\n",
        "        self.fc2 = nn.Linear(120, 84)\n",
        "        self.fc3 = nn.Linear(84, 10)\n",
        "\n",
        "    def forward(self, x):\n",
        "        # Max pooling over a (2, 2) window\n",
        "        #print(\"before maxpool2d, conv1:{}\".format(x.size()))\n",
        "        x = F.max_pool2d(F.relu(self.conv1(x)), (2, 2))\n",
        "        #print(\"After maxpool2d, conv1:{}\".format(x.size()))\n",
        "        # If the size is a square you can only specify a single number\n",
        "        x = F.max_pool2d(F.relu(self.conv2(x)), 2)\n",
        "        #print(\"After maxpool2d, conv2:{}\".format(x.size()))\n",
        "        x = x.view(-1, self.num_flat_features(x))\n",
        "        #print(\"Before Relu, fc1:{}\".format(x.size()))\n",
        "        x = F.relu(self.fc1(x))\n",
        "        #print(\"Before Relu, fc2:{}\".format(x.size()))\n",
        "        x = F.relu(self.fc2(x))\n",
        "        #print(\"Before Relu, fc3:{}\".format(x.size()))\n",
        "        x = self.fc3(x)\n",
        "        return x\n",
        "\n",
        "    def num_flat_features(self, x):\n",
        "        size = x.size()[1:]  # all dimensions except the batch dimension\n",
        "        num_features = 1\n",
        "        for s in size:\n",
        "            num_features *= s\n",
        "        return num_features\n",
        "\n",
        "\n",
        "net = Net()\n",
        "print(net)"
      ],
      "execution_count": 79,
      "outputs": [
        {
          "output_type": "stream",
          "text": [
            "Net(\n",
            "  (conv1): Conv2d(1, 6, kernel_size=(3, 3), stride=(1, 1))\n",
            "  (conv2): Conv2d(6, 16, kernel_size=(3, 3), stride=(1, 1))\n",
            "  (fc1): Linear(in_features=400, out_features=120, bias=True)\n",
            "  (fc2): Linear(in_features=120, out_features=84, bias=True)\n",
            "  (fc3): Linear(in_features=84, out_features=10, bias=True)\n",
            ")\n"
          ],
          "name": "stdout"
        }
      ]
    },
    {
      "cell_type": "code",
      "metadata": {
        "id": "zfRMSUlBV8La",
        "colab_type": "code",
        "colab": {}
      },
      "source": [
        "import torch.optim as optim\n",
        "\n",
        "criterion = nn.CrossEntropyLoss()\n",
        "optimizer = optim.SGD(net.parameters(), lr=0.001, momentum=0.9)\n",
        "exp_lr_scheduler = lr_scheduler.StepLR(optimizer, step_size=7, gamma=0.1)\n"
      ],
      "execution_count": 80,
      "outputs": []
    },
    {
      "cell_type": "markdown",
      "metadata": {
        "id": "s-D4TkPsVrCP",
        "colab_type": "text"
      },
      "source": [
        "3. Training & testing the model"
      ]
    },
    {
      "cell_type": "code",
      "metadata": {
        "id": "6OeKuJWcjnPt",
        "colab_type": "code",
        "colab": {}
      },
      "source": [
        "#Schedule the learning rate and save the best model "
      ],
      "execution_count": 81,
      "outputs": []
    },
    {
      "cell_type": "code",
      "metadata": {
        "id": "VZA9RccoV91X",
        "colab_type": "code",
        "colab": {}
      },
      "source": [
        "def train_model(model, criterion, optimizer, scheduler, num_epochs=25):\n",
        "    since = time.time()\n",
        "    model.to(device)\n",
        "    best_model_wts = copy.deepcopy(model.state_dict())\n",
        "    best_acc = 0.0\n",
        "    train_losses=[]\n",
        "    val_losses=[]\n",
        "    print(train_losses)\n",
        "    for epoch in range(num_epochs):\n",
        "        print('Epoch {}/{}'.format(epoch, num_epochs - 1))\n",
        "        print('-' * 10)\n",
        "\n",
        "        # Each epoch has a training and validation phase\n",
        "        for phase in ['train', 'val']:\n",
        "            if phase == 'train':\n",
        "                model.train()  # Set model to training mode\n",
        "            else:\n",
        "                model.eval()   # Set model to evaluate mode\n",
        "\n",
        "            running_loss = 0.0\n",
        "            running_corrects = 0\n",
        "            \n",
        "            # Iterate over data.\n",
        "            for inputs, labels in dataloaders[phase]:\n",
        "                inputs = inputs.to(device)\n",
        "                labels = labels.to(device)\n",
        "\n",
        "                # zero the parameter gradients\n",
        "                optimizer.zero_grad()\n",
        "                \n",
        "                # forward\n",
        "                # track history if only in train\n",
        "                with torch.set_grad_enabled(phase == 'train'):\n",
        "                    #print(\"pass\")\n",
        "                    outputs = model(inputs)\n",
        "                    _, preds = torch.max(outputs, 1)\n",
        "                    loss = criterion(outputs, labels)\n",
        "\n",
        "                    # backward + optimize only if in training phase\n",
        "                    if phase == 'train':\n",
        "                        loss.backward()\n",
        "                        optimizer.step()\n",
        "\n",
        "                # statistics\n",
        "                running_loss += loss.item() * inputs.size(0)\n",
        "                running_corrects += torch.sum(preds == labels.data)\n",
        "            if phase == 'train':\n",
        "                scheduler.step()\n",
        "\n",
        "            epoch_loss = running_loss / dataset_sizes[phase]\n",
        "            epoch_acc = running_corrects.double() / dataset_sizes[phase]\n",
        "            \n",
        "            if phase == 'train':\n",
        "              train_losses.append(epoch_loss)\n",
        "            else:\n",
        "              val_losses.append(epoch_loss)\n",
        "\n",
        "            print('{} Loss: {:.4f} Acc: {:.4f}'.format(\n",
        "                phase, epoch_loss, epoch_acc))\n",
        "\n",
        "            # deep copy the model\n",
        "            if phase == 'val' and epoch_acc > best_acc:\n",
        "                best_acc = epoch_acc\n",
        "                best_model_wts = copy.deepcopy(model.state_dict())\n",
        "\n",
        "        print()\n",
        "\n",
        "    time_elapsed = time.time() - since\n",
        "    print('Training complete in {:.0f}m {:.0f}s'.format(\n",
        "        time_elapsed // 60, time_elapsed % 60))\n",
        "    print('Best val Acc: {:4f}'.format(best_acc))\n",
        "\n",
        "    # load best model weights\n",
        "    model.load_state_dict(best_model_wts)\n",
        "    return model, train_losses, val_losses"
      ],
      "execution_count": 131,
      "outputs": []
    },
    {
      "cell_type": "code",
      "metadata": {
        "id": "E6QJWRFhV9iw",
        "colab_type": "code",
        "colab": {
          "base_uri": "https://localhost:8080/",
          "height": 1000
        },
        "outputId": "2e651908-2702-4356-b936-953f30fb51c1"
      },
      "source": [
        "model_ft, train_losses, val_losses = train_model(net, criterion, optimizer, exp_lr_scheduler,\n",
        "                       num_epochs=25)"
      ],
      "execution_count": 135,
      "outputs": [
        {
          "output_type": "stream",
          "text": [
            "[]\n",
            "Epoch 0/24\n",
            "----------\n",
            "train Loss: 0.0149 Acc: 0.9957\n",
            "val Loss: 0.0438 Acc: 0.9879\n",
            "\n",
            "Epoch 1/24\n",
            "----------\n",
            "train Loss: 0.0144 Acc: 0.9960\n",
            "val Loss: 0.0438 Acc: 0.9879\n",
            "\n",
            "Epoch 2/24\n",
            "----------\n",
            "train Loss: 0.0145 Acc: 0.9957\n",
            "val Loss: 0.0438 Acc: 0.9879\n",
            "\n",
            "Epoch 3/24\n",
            "----------\n",
            "train Loss: 0.0149 Acc: 0.9957\n",
            "val Loss: 0.0438 Acc: 0.9879\n",
            "\n",
            "Epoch 4/24\n",
            "----------\n",
            "train Loss: 0.0141 Acc: 0.9959\n",
            "val Loss: 0.0438 Acc: 0.9879\n",
            "\n",
            "Epoch 5/24\n",
            "----------\n",
            "train Loss: 0.0143 Acc: 0.9960\n",
            "val Loss: 0.0438 Acc: 0.9879\n",
            "\n",
            "Epoch 6/24\n",
            "----------\n",
            "train Loss: 0.0142 Acc: 0.9958\n",
            "val Loss: 0.0438 Acc: 0.9879\n",
            "\n",
            "Epoch 7/24\n",
            "----------\n",
            "train Loss: 0.0143 Acc: 0.9959\n",
            "val Loss: 0.0438 Acc: 0.9879\n",
            "\n",
            "Epoch 8/24\n",
            "----------\n",
            "train Loss: 0.0141 Acc: 0.9958\n",
            "val Loss: 0.0438 Acc: 0.9879\n",
            "\n",
            "Epoch 9/24\n",
            "----------\n",
            "train Loss: 0.0145 Acc: 0.9959\n",
            "val Loss: 0.0438 Acc: 0.9879\n",
            "\n",
            "Epoch 10/24\n",
            "----------\n",
            "train Loss: 0.0139 Acc: 0.9958\n",
            "val Loss: 0.0438 Acc: 0.9879\n",
            "\n",
            "Epoch 11/24\n",
            "----------\n",
            "train Loss: 0.0145 Acc: 0.9958\n",
            "val Loss: 0.0438 Acc: 0.9879\n",
            "\n",
            "Epoch 12/24\n",
            "----------\n",
            "train Loss: 0.0144 Acc: 0.9959\n",
            "val Loss: 0.0438 Acc: 0.9879\n",
            "\n",
            "Epoch 13/24\n",
            "----------\n",
            "train Loss: 0.0141 Acc: 0.9960\n",
            "val Loss: 0.0438 Acc: 0.9879\n",
            "\n",
            "Epoch 14/24\n",
            "----------\n",
            "train Loss: 0.0143 Acc: 0.9959\n",
            "val Loss: 0.0438 Acc: 0.9879\n",
            "\n",
            "Epoch 15/24\n",
            "----------\n",
            "train Loss: 0.0148 Acc: 0.9959\n",
            "val Loss: 0.0438 Acc: 0.9879\n",
            "\n",
            "Epoch 16/24\n",
            "----------\n",
            "train Loss: 0.0145 Acc: 0.9958\n",
            "val Loss: 0.0438 Acc: 0.9879\n",
            "\n",
            "Epoch 17/24\n",
            "----------\n",
            "train Loss: 0.0143 Acc: 0.9959\n",
            "val Loss: 0.0438 Acc: 0.9879\n",
            "\n",
            "Epoch 18/24\n",
            "----------\n",
            "train Loss: 0.0139 Acc: 0.9961\n",
            "val Loss: 0.0438 Acc: 0.9879\n",
            "\n",
            "Epoch 19/24\n",
            "----------\n",
            "train Loss: 0.0143 Acc: 0.9960\n",
            "val Loss: 0.0438 Acc: 0.9879\n",
            "\n",
            "Epoch 20/24\n",
            "----------\n",
            "train Loss: 0.0145 Acc: 0.9958\n",
            "val Loss: 0.0438 Acc: 0.9879\n",
            "\n",
            "Epoch 21/24\n",
            "----------\n",
            "train Loss: 0.0147 Acc: 0.9957\n",
            "val Loss: 0.0438 Acc: 0.9879\n",
            "\n",
            "Epoch 22/24\n",
            "----------\n",
            "train Loss: 0.0140 Acc: 0.9961\n",
            "val Loss: 0.0438 Acc: 0.9879\n",
            "\n",
            "Epoch 23/24\n",
            "----------\n",
            "train Loss: 0.0145 Acc: 0.9960\n",
            "val Loss: 0.0438 Acc: 0.9879\n",
            "\n",
            "Epoch 24/24\n",
            "----------\n",
            "train Loss: 0.0149 Acc: 0.9957\n",
            "val Loss: 0.0438 Acc: 0.9879\n",
            "\n",
            "Training complete in 45m 8s\n",
            "Best val Acc: 0.987900\n"
          ],
          "name": "stdout"
        }
      ]
    },
    {
      "cell_type": "markdown",
      "metadata": {
        "id": "y-m5FSc3iaQZ",
        "colab_type": "text"
      },
      "source": [
        "4. Visualization of the training period "
      ]
    },
    {
      "cell_type": "code",
      "metadata": {
        "id": "aJbFL6UPnpBV",
        "colab_type": "code",
        "colab": {
          "base_uri": "https://localhost:8080/",
          "height": 442
        },
        "outputId": "1f15545a-2c27-44b4-d932-350029ef0f31"
      },
      "source": [
        "train_losses"
      ],
      "execution_count": 136,
      "outputs": [
        {
          "output_type": "execute_result",
          "data": {
            "text/plain": [
              "[0.01494380030728182,\n",
              " 0.014373723897627717,\n",
              " 0.01451769555725482,\n",
              " 0.014900623061053126,\n",
              " 0.014085214198154759,\n",
              " 0.014335749957842996,\n",
              " 0.014244049540308784,\n",
              " 0.014272077280776414,\n",
              " 0.014072539430063162,\n",
              " 0.014511977310680003,\n",
              " 0.01389242610969424,\n",
              " 0.014454856610601629,\n",
              " 0.014365653403631955,\n",
              " 0.014051346122587972,\n",
              " 0.014300589140993128,\n",
              " 0.014766219226597831,\n",
              " 0.014549816134719026,\n",
              " 0.014324210995568486,\n",
              " 0.013888491371055007,\n",
              " 0.014304760687785863,\n",
              " 0.014471160482625924,\n",
              " 0.01472116426933159,\n",
              " 0.013986319995684069,\n",
              " 0.014485760454199309,\n",
              " 0.014924859974455633]"
            ]
          },
          "metadata": {
            "tags": []
          },
          "execution_count": 136
        }
      ]
    },
    {
      "cell_type": "code",
      "metadata": {
        "id": "6p8-JWxPigpn",
        "colab_type": "code",
        "colab": {
          "base_uri": "https://localhost:8080/",
          "height": 284
        },
        "outputId": "3a2c924c-b412-470c-ca7e-ead38a4ccb40"
      },
      "source": [
        "plt.figure()\n",
        "plt.plot(np.array(train_losses), 'r', label='training loss')\n",
        "plt.plot(np.array(val_losses), 'b', label='validation loss')"
      ],
      "execution_count": 137,
      "outputs": [
        {
          "output_type": "execute_result",
          "data": {
            "text/plain": [
              "[<matplotlib.lines.Line2D at 0x7f05583d2a90>]"
            ]
          },
          "metadata": {
            "tags": []
          },
          "execution_count": 137
        },
        {
          "output_type": "display_data",
          "data": {
            "image/png": "[encoded data removed]",
            "text/plain": [
              "<Figure size 432x288 with 1 Axes>"
            ]
          },
          "metadata": {
            "tags": [],
            "needs_background": "light"
          }
        }
      ]
    },
    {
      "cell_type": "markdown",
      "metadata": {
        "id": "v2V2hIsWVxtP",
        "colab_type": "text"
      },
      "source": [
        "5. Visualization of the model"
      ]
    },
    {
      "cell_type": "code",
      "metadata": {
        "id": "mwToF-OsV_ez",
        "colab_type": "code",
        "colab": {}
      },
      "source": [
        "def visualize_model(model, num_images=6):\n",
        "    was_training = model.training\n",
        "    model.eval()\n",
        "    images_so_far = 0\n",
        "    fig = plt.figure()\n",
        "\n",
        "    with torch.no_grad():\n",
        "        for i, (inputs, labels) in enumerate(dataloaders['val']):\n",
        "            inputs = inputs.to(device)\n",
        "            labels = labels.to(device)\n",
        "\n",
        "            outputs = model(inputs)\n",
        "            _, preds = torch.max(outputs, 1)\n",
        "            \n",
        "            for j in range(inputs.size()[0]):\n",
        "                images_so_far += 1\n",
        "                ax = plt.subplot(num_images//2, 2, images_so_far)\n",
        "                ax.axis('off')\n",
        "                ax.set_title('predicted: {}'.format(class_names[preds[j]]))\n",
        "                out = torchvision.utils.make_grid(inputs.cpu().data[j], nrow=2)\n",
        "                imshow(out, ax=ax)\n",
        "                if images_so_far == num_images:\n",
        "                    model.train(mode=was_training)\n",
        "                    return\n",
        "        model.train(mode=was_training)"
      ],
      "execution_count": 138,
      "outputs": []
    },
    {
      "cell_type": "code",
      "metadata": {
        "id": "v3VbH6hAV_XO",
        "colab_type": "code",
        "colab": {
          "base_uri": "https://localhost:8080/",
          "height": 785
        },
        "outputId": "47e40472-99b0-4900-d4f9-f72c12dbca3c"
      },
      "source": [
        "visualize_model(model_ft)"
      ],
      "execution_count": 139,
      "outputs": [
        {
          "output_type": "stream",
          "text": [
            "torch.Size([3, 28, 28])\n",
            "pass\n"
          ],
          "name": "stdout"
        },
        {
          "output_type": "display_data",
          "data": {
            "image/png": "[encoded data removed]",
            "text/plain": [
              "<Figure size 432x288 with 1 Axes>"
            ]
          },
          "metadata": {
            "tags": []
          }
        },
        {
          "output_type": "stream",
          "text": [
            "torch.Size([3, 28, 28])\n",
            "pass\n"
          ],
          "name": "stdout"
        },
        {
          "output_type": "display_data",
          "data": {
            "image/png": "[encoded data removed]",
            "text/plain": [
              "<Figure size 432x288 with 1 Axes>"
            ]
          },
          "metadata": {
            "tags": []
          }
        },
        {
          "output_type": "stream",
          "text": [
            "torch.Size([3, 28, 28])\n",
            "pass\n"
          ],
          "name": "stdout"
        },
        {
          "output_type": "display_data",
          "data": {
            "image/png": "[encoded data removed]",
            "text/plain": [
              "<Figure size 432x288 with 1 Axes>"
            ]
          },
          "metadata": {
            "tags": []
          }
        },
        {
          "output_type": "stream",
          "text": [
            "torch.Size([3, 28, 28])\n",
            "pass\n"
          ],
          "name": "stdout"
        },
        {
          "output_type": "display_data",
          "data": {
            "image/png": "[encoded data removed]",
            "text/plain": [
              "<Figure size 432x288 with 1 Axes>"
            ]
          },
          "metadata": {
            "tags": []
          }
        },
        {
          "output_type": "stream",
          "text": [
            "torch.Size([3, 28, 28])\n",
            "pass\n"
          ],
          "name": "stdout"
        },
        {
          "output_type": "display_data",
          "data": {
            "image/png": "[encoded data removed]",
            "text/plain": [
              "<Figure size 432x288 with 1 Axes>"
            ]
          },
          "metadata": {
            "tags": []
          }
        },
        {
          "output_type": "stream",
          "text": [
            "torch.Size([3, 28, 28])\n",
            "pass\n"
          ],
          "name": "stdout"
        },
        {
          "output_type": "display_data",
          "data": {
            "image/png": "[encoded data removed]",
            "text/plain": [
              "<Figure size 432x288 with 1 Axes>"
            ]
          },
          "metadata": {
            "tags": []
          }
        }
      ]
    },
    {
      "cell_type": "markdown",
      "metadata": {
        "id": "Yy6WQoOQVbM9",
        "colab_type": "text"
      },
      "source": [
        ""
      ]
    }
  ]
}